{
 "cells": [
  {
   "cell_type": "code",
   "execution_count": 1,
   "metadata": {},
   "outputs": [
    {
     "ename": "ModuleNotFoundError",
     "evalue": "No module named 'flask_sqlalchemy'",
     "output_type": "error",
     "traceback": [
      "\u001b[1;31m---------------------------------------------------------------------------\u001b[0m",
      "\u001b[1;31mModuleNotFoundError\u001b[0m                       Traceback (most recent call last)",
      "\u001b[1;32m<ipython-input-1-51ae680126c9>\u001b[0m in \u001b[0;36m<module>\u001b[1;34m()\u001b[0m\n\u001b[0;32m     13\u001b[0m \u001b[1;33m\u001b[0m\u001b[0m\n\u001b[0;32m     14\u001b[0m \u001b[1;32mfrom\u001b[0m \u001b[0mflask\u001b[0m \u001b[1;32mimport\u001b[0m \u001b[0mFlask\u001b[0m\u001b[1;33m,\u001b[0m \u001b[0mjsonify\u001b[0m\u001b[1;33m,\u001b[0m \u001b[0mrender_template\u001b[0m\u001b[1;33m\u001b[0m\u001b[0m\n\u001b[1;32m---> 15\u001b[1;33m \u001b[1;32mfrom\u001b[0m \u001b[0mflask_sqlalchemy\u001b[0m \u001b[1;32mimport\u001b[0m \u001b[0mSQLAlchemy\u001b[0m\u001b[1;33m\u001b[0m\u001b[0m\n\u001b[0m",
      "\u001b[1;31mModuleNotFoundError\u001b[0m: No module named 'flask_sqlalchemy'"
     ]
    }
   ],
   "source": [
    "import pymysql\n",
    "pymysql.install_as_MySQLdb()\n",
    "import os\n",
    "import pandas as pd\n",
    "import numpy as np\n",
    "\n",
    "import sqlalchemy\n",
    "from sqlalchemy.ext.automap import automap_base\n",
    "from sqlalchemy.orm import Session\n",
    "from sqlalchemy import create_engine\n",
    "from sqlalchemy.ext.declarative import declarative_base\n",
    "Base = declarative_base()\n",
    "\n",
    "from flask import Flask, jsonify, render_template\n",
    "from flask_sqlalchemy import SQLAlchemy\n"
   ]
  },
  {
   "cell_type": "code",
   "execution_count": null,
   "metadata": {},
   "outputs": [],
   "source": [
    "# Import modules to declare columns and column data types\n",
    "from sqlalchemy import Column, Integer, String, Float\n",
    "app = Flask(__name__)"
   ]
  },
  {
   "cell_type": "code",
   "execution_count": null,
   "metadata": {},
   "outputs": [],
   "source": [
    "engine = create_engine(\"mysql://root:Freehov90@@localhost:3306/activities_db\")"
   ]
  },
  {
   "cell_type": "code",
   "execution_count": 2,
   "metadata": {},
   "outputs": [
    {
     "ename": "NameError",
     "evalue": "name 'engine' is not defined",
     "output_type": "error",
     "traceback": [
      "\u001b[1;31m---------------------------------------------------------------------------\u001b[0m",
      "\u001b[1;31mNameError\u001b[0m                                 Traceback (most recent call last)",
      "\u001b[1;32m<ipython-input-2-71745b407575>\u001b[0m in \u001b[0;36m<module>\u001b[1;34m()\u001b[0m\n\u001b[1;32m----> 1\u001b[1;33m \u001b[0mconn\u001b[0m \u001b[1;33m=\u001b[0m \u001b[0mengine\u001b[0m\u001b[1;33m.\u001b[0m\u001b[0mconnect\u001b[0m\u001b[1;33m(\u001b[0m\u001b[1;33m)\u001b[0m\u001b[1;33m\u001b[0m\u001b[0m\n\u001b[0m",
      "\u001b[1;31mNameError\u001b[0m: name 'engine' is not defined"
     ]
    }
   ],
   "source": [
    "conn = engine.connect()"
   ]
  },
  {
   "cell_type": "code",
   "execution_count": 32,
   "metadata": {},
   "outputs": [],
   "source": [
    "from sqlalchemy.orm import Session\n",
    "session = Session(bind=engine)"
   ]
  },
  {
   "cell_type": "code",
   "execution_count": 33,
   "metadata": {},
   "outputs": [],
   "source": [
    "# Query All Records in the the City Table\n",
    "Combined = pd.read_sql(\"SELECT * FROM combined\", conn)\n",
    "Activities_data=pd.read_sql(\"SELECT * FROM activities_data\", conn)"
   ]
  },
  {
   "cell_type": "code",
   "execution_count": 34,
   "metadata": {},
   "outputs": [
    {
     "name": "stdout",
     "output_type": "stream",
     "text": [
      "   ﻿Mstatus  Employment_Status  Sleeping  Housework  FoodPrep  garden_care  \\\n",
      "0    610000                1.0      8.09       0.24      0.33         0.16   \n",
      "1    600000                0.0      8.88       0.68      0.59         0.22   \n",
      "2    617150                1.5      8.49       1.00      0.96         0.07   \n",
      "3    617000                0.0      8.92       1.46      1.47         0.11   \n",
      "4    610001                1.0      8.09       0.24      0.33         0.16   \n",
      "5    600011                0.0      8.88       0.68      0.59         0.22   \n",
      "6    617151                1.5      8.44       1.28      1.04         0.13   \n",
      "7    617001                0.0      8.71       1.68      1.46         0.16   \n",
      "\n",
      "   Grocery_shopping  Shopping_goods  Caring_children  Physica_care  \\\n",
      "0              0.08            0.23             1.25          0.46   \n",
      "1              0.12            0.28             2.11          0.76   \n",
      "2              0.14            0.34             2.68          1.26   \n",
      "3              0.16            0.38             3.25          1.46   \n",
      "4              0.08            0.23             1.25          0.46   \n",
      "5              0.12            0.28             2.11          0.76   \n",
      "6              0.17            0.39             1.10          0.29   \n",
      "7              0.21            0.41             1.45          0.36   \n",
      "\n",
      "   Education_activities  Reading_children  Playing_w_children  Working  \\\n",
      "0                  0.05              0.05                0.49     6.01   \n",
      "1                  0.11              0.08                0.75     2.22   \n",
      "2                  0.11              0.10                0.71     2.65   \n",
      "3                  0.20              0.11                0.93     0.02   \n",
      "4                  0.05              0.05                0.49     6.01   \n",
      "5                  0.11              0.08                0.75     2.22   \n",
      "6                  0.21              0.03                0.08     2.91   \n",
      "7                  0.32              0.04                0.12     0.06   \n",
      "\n",
      "   Socializing  Watching_television  Recreation  Travel_children  \\\n",
      "0         0.60                 1.94        0.28             0.12   \n",
      "1         1.11                 3.22        0.35             0.21   \n",
      "2         0.80                 1.57        0.21             0.27   \n",
      "3         0.85                 2.11        0.20             0.29   \n",
      "4         0.60                 1.94        0.28             0.12   \n",
      "5         1.11                 3.22        0.35             0.21   \n",
      "6         0.73                 1.73        0.25             0.29   \n",
      "7         0.85                 2.39        0.26             0.30   \n",
      "\n",
      "   Other_activities  \n",
      "0          1.720000  \n",
      "1          2.410000  \n",
      "2          2.020000  \n",
      "3          2.280000  \n",
      "4          1.720000  \n",
      "5          2.410000  \n",
      "6          0.405333  \n",
      "7          2.640000  \n"
     ]
    }
   ],
   "source": [
    "print(Combined)"
   ]
  },
  {
   "cell_type": "code",
   "execution_count": 35,
   "metadata": {},
   "outputs": [
    {
     "data": {
      "text/html": [
       "<div>\n",
       "<style scoped>\n",
       "    .dataframe tbody tr th:only-of-type {\n",
       "        vertical-align: middle;\n",
       "    }\n",
       "\n",
       "    .dataframe tbody tr th {\n",
       "        vertical-align: top;\n",
       "    }\n",
       "\n",
       "    .dataframe thead th {\n",
       "        text-align: right;\n",
       "    }\n",
       "</style>\n",
       "<table border=\"1\" class=\"dataframe\">\n",
       "  <thead>\n",
       "    <tr style=\"text-align: right;\">\n",
       "      <th></th>\n",
       "      <th>﻿activity_ID</th>\n",
       "      <th>activity_label</th>\n",
       "      <th>610000</th>\n",
       "      <th>600000</th>\n",
       "      <th>617150</th>\n",
       "      <th>617000</th>\n",
       "      <th>610001</th>\n",
       "      <th>600011</th>\n",
       "      <th>617151</th>\n",
       "      <th>617001</th>\n",
       "    </tr>\n",
       "  </thead>\n",
       "  <tbody>\n",
       "    <tr>\n",
       "      <th>0</th>\n",
       "      <td>1</td>\n",
       "      <td>Child_sleeping</td>\n",
       "      <td>8.09</td>\n",
       "      <td>8.88</td>\n",
       "      <td>8.49</td>\n",
       "      <td>8.92</td>\n",
       "      <td>8.09</td>\n",
       "      <td>8.88</td>\n",
       "      <td>8.44</td>\n",
       "      <td>8.71</td>\n",
       "    </tr>\n",
       "    <tr>\n",
       "      <th>1</th>\n",
       "      <td>2</td>\n",
       "      <td>Housework</td>\n",
       "      <td>0.73</td>\n",
       "      <td>2.45</td>\n",
       "      <td>2.03</td>\n",
       "      <td>3.04</td>\n",
       "      <td>0.73</td>\n",
       "      <td>3.49</td>\n",
       "      <td>2.45</td>\n",
       "      <td>3.30</td>\n",
       "    </tr>\n",
       "    <tr>\n",
       "      <th>2</th>\n",
       "      <td>3</td>\n",
       "      <td>Shopping</td>\n",
       "      <td>0.31</td>\n",
       "      <td>0.40</td>\n",
       "      <td>0.46</td>\n",
       "      <td>0.54</td>\n",
       "      <td>0.31</td>\n",
       "      <td>0.40</td>\n",
       "      <td>0.56</td>\n",
       "      <td>1.39</td>\n",
       "    </tr>\n",
       "    <tr>\n",
       "      <th>3</th>\n",
       "      <td>4</td>\n",
       "      <td>CaringForChild</td>\n",
       "      <td>2.70</td>\n",
       "      <td>6.00</td>\n",
       "      <td>3.90</td>\n",
       "      <td>4.71</td>\n",
       "      <td>1.71</td>\n",
       "      <td>4.87</td>\n",
       "      <td>1.39</td>\n",
       "      <td>3.81</td>\n",
       "    </tr>\n",
       "    <tr>\n",
       "      <th>4</th>\n",
       "      <td>5</td>\n",
       "      <td>Education</td>\n",
       "      <td>0.10</td>\n",
       "      <td>0.17</td>\n",
       "      <td>0.20</td>\n",
       "      <td>0.31</td>\n",
       "      <td>0.10</td>\n",
       "      <td>0.19</td>\n",
       "      <td>0.24</td>\n",
       "      <td>0.36</td>\n",
       "    </tr>\n",
       "  </tbody>\n",
       "</table>\n",
       "</div>"
      ],
      "text/plain": [
       "   ﻿activity_ID  activity_label  610000  600000  617150  617000  610001  \\\n",
       "0             1  Child_sleeping    8.09    8.88    8.49    8.92    8.09   \n",
       "1             2       Housework    0.73    2.45    2.03    3.04    0.73   \n",
       "2             3        Shopping    0.31    0.40    0.46    0.54    0.31   \n",
       "3             4  CaringForChild    2.70    6.00    3.90    4.71    1.71   \n",
       "4             5       Education    0.10    0.17    0.20    0.31    0.10   \n",
       "\n",
       "   600011  617151  617001  \n",
       "0    8.88    8.44    8.71  \n",
       "1    3.49    2.45    3.30  \n",
       "2    0.40    0.56    1.39  \n",
       "3    4.87    1.39    3.81  \n",
       "4    0.19    0.24    0.36  "
      ]
     },
     "execution_count": 35,
     "metadata": {},
     "output_type": "execute_result"
    }
   ],
   "source": [
    "Activities_data.head()"
   ]
  },
  {
   "cell_type": "code",
   "execution_count": 36,
   "metadata": {},
   "outputs": [
    {
     "name": "stdout",
     "output_type": "stream",
     "text": [
      "   Sleeping\n",
      "0      8.09\n",
      "1      8.88\n",
      "2      8.49\n",
      "3      8.92\n",
      "4      8.09\n",
      "5      8.88\n",
      "6      8.44\n",
      "7      8.71\n"
     ]
    }
   ],
   "source": [
    "df1 = pd.read_sql_query(\"SELECT Sleeping FROM Combined\", conn)\n",
    "print(df1)"
   ]
  },
  {
   "cell_type": "code",
   "execution_count": 36,
   "metadata": {},
   "outputs": [],
   "source": [
    "@app.route(\"/\")\n",
    "def index():\n",
    "    \"\"\"Return the homepage.\"\"\"\n",
    "    return render_template(\"index.html\")\n"
   ]
  },
  {
   "cell_type": "code",
   "execution_count": 37,
   "metadata": {},
   "outputs": [
    {
     "name": "stdout",
     "output_type": "stream",
     "text": [
      "<function maritalstatus at 0x0000014D4BE36D90>\n"
     ]
    }
   ],
   "source": [
    "@app.route(\"/maritalstatus\")\n",
    "def maritalstatus():\n",
    "    \"\"\"Return a list Status.\"\"\"\n",
    "\n",
    "    # Use Pandas to perform the sql query\n",
    "    stmt = session.query(Activities_data).statement\n",
    "    df = pd.read_sql_query(stmt, session.bind)\n",
    "\n",
    "    # Return a list of the column names (Marital Status)\n",
    "    return jsonify(list(df.columns)[2:])\n",
    "print(maritalstatus)"
   ]
  },
  {
   "cell_type": "code",
   "execution_count": 38,
   "metadata": {},
   "outputs": [],
   "source": [
    "@app.route(\"/combineddata/<Status>\")\n",
    "def combineddata(Mstatus):\n",
    "    \"\"\"Return the combined data for a given marital status.\"\"\"\n",
    "    sel = [\n",
    "        Combined.Mstatus,\n",
    "        Combined.Housework,\n",
    "        Combined.Sleeping,\n",
    "        Combined.Shopping_goods,\n",
    "        Combined.Working,\n",
    "            ]\n",
    "\n",
    "    results = session.query(*sel).filter(Combined.Mstatus == Mstatus).all()\n",
    "\n",
    "    # Create a dictionary entry for each row of metadata information\n",
    "    combined = {}\n",
    "    for result in results:\n",
    "        combined[\"Mstatus\"] = result[0]\n",
    "        combined[\"Housework\"] = result[1]\n",
    "        combined[\"Sleeping\"] = result[2]\n",
    "        combined[\"Shopping_goods\"] = result[3]\n",
    "        combined[\"Working\"] = result[4]\n",
    "        \n",
    "\n",
    "   \n",
    "    return jsonify(combineddata)"
   ]
  },
  {
   "cell_type": "code",
   "execution_count": 39,
   "metadata": {},
   "outputs": [
    {
     "name": "stdout",
     "output_type": "stream",
     "text": [
      "<function combineddata at 0x0000014D4BE36BF8>\n"
     ]
    }
   ],
   "source": [
    " print(combineddata)"
   ]
  },
  {
   "cell_type": "code",
   "execution_count": 40,
   "metadata": {},
   "outputs": [],
   "source": [
    "@app.route(\"/activity_data/<Mstatus>\")\n",
    "def acitivity_data(MStatus):\n",
    "    \"\"\"Return `acitivity_IDS, acitivity_labels, Mstatus_values.\"\"\"\n",
    "    \n",
    "    # Filter the data based on Mstatus \n",
    "    \n",
    "    sample_data = pd.read_sql(\"Select activity_ID activity_label Mstatus From Activities_data\", conn)\n",
    "    # Format the data to send as json\n",
    "    data = {\n",
    "        \"acitivity_IDS\": sample_data.activity_ID.values.tolist(),\n",
    "        \"Mstatus_values\": sample_data[Mstatus].values.tolist(),\n",
    "        \"acitivity_lables\": sample_data.activity_label.tolist(),\n",
    "    }\n",
    "    return jsonify(data)\n"
   ]
  },
  {
   "cell_type": "code",
   "execution_count": 41,
   "metadata": {},
   "outputs": [
    {
     "name": "stdout",
     "output_type": "stream",
     "text": [
      "<function acitivity_data at 0x0000014D4BB3DD08>\n"
     ]
    }
   ],
   "source": [
    "print(acitivity_data)"
   ]
  },
  {
   "cell_type": "code",
   "execution_count": 42,
   "metadata": {},
   "outputs": [
    {
     "ename": "UnsupportedOperation",
     "evalue": "not writable",
     "output_type": "error",
     "traceback": [
      "\u001b[1;31m---------------------------------------------------------------------------\u001b[0m",
      "\u001b[1;31mUnsupportedOperation\u001b[0m                      Traceback (most recent call last)",
      "\u001b[1;32m<ipython-input-42-afe4f6debf34>\u001b[0m in \u001b[0;36m<module>\u001b[1;34m()\u001b[0m\n\u001b[0;32m      1\u001b[0m \u001b[1;32mif\u001b[0m \u001b[0m__name__\u001b[0m \u001b[1;33m==\u001b[0m \u001b[1;34m\"__main__\"\u001b[0m\u001b[1;33m:\u001b[0m\u001b[1;33m\u001b[0m\u001b[0m\n\u001b[1;32m----> 2\u001b[1;33m     \u001b[0mapp\u001b[0m\u001b[1;33m.\u001b[0m\u001b[0mrun\u001b[0m\u001b[1;33m(\u001b[0m\u001b[1;33m)\u001b[0m\u001b[1;33m\u001b[0m\u001b[0m\n\u001b[0m",
      "\u001b[1;32m~\\Anaconda3\\lib\\site-packages\\flask\\app.py\u001b[0m in \u001b[0;36mrun\u001b[1;34m(self, host, port, debug, load_dotenv, **options)\u001b[0m\n\u001b[0;32m    936\u001b[0m         \u001b[0moptions\u001b[0m\u001b[1;33m.\u001b[0m\u001b[0msetdefault\u001b[0m\u001b[1;33m(\u001b[0m\u001b[1;34m'threaded'\u001b[0m\u001b[1;33m,\u001b[0m \u001b[1;32mTrue\u001b[0m\u001b[1;33m)\u001b[0m\u001b[1;33m\u001b[0m\u001b[0m\n\u001b[0;32m    937\u001b[0m \u001b[1;33m\u001b[0m\u001b[0m\n\u001b[1;32m--> 938\u001b[1;33m         \u001b[0mcli\u001b[0m\u001b[1;33m.\u001b[0m\u001b[0mshow_server_banner\u001b[0m\u001b[1;33m(\u001b[0m\u001b[0mself\u001b[0m\u001b[1;33m.\u001b[0m\u001b[0menv\u001b[0m\u001b[1;33m,\u001b[0m \u001b[0mself\u001b[0m\u001b[1;33m.\u001b[0m\u001b[0mdebug\u001b[0m\u001b[1;33m,\u001b[0m \u001b[0mself\u001b[0m\u001b[1;33m.\u001b[0m\u001b[0mname\u001b[0m\u001b[1;33m,\u001b[0m \u001b[1;32mFalse\u001b[0m\u001b[1;33m)\u001b[0m\u001b[1;33m\u001b[0m\u001b[0m\n\u001b[0m\u001b[0;32m    939\u001b[0m \u001b[1;33m\u001b[0m\u001b[0m\n\u001b[0;32m    940\u001b[0m         \u001b[1;32mfrom\u001b[0m \u001b[0mwerkzeug\u001b[0m\u001b[1;33m.\u001b[0m\u001b[0mserving\u001b[0m \u001b[1;32mimport\u001b[0m \u001b[0mrun_simple\u001b[0m\u001b[1;33m\u001b[0m\u001b[0m\n",
      "\u001b[1;32m~\\Anaconda3\\lib\\site-packages\\flask\\cli.py\u001b[0m in \u001b[0;36mshow_server_banner\u001b[1;34m(env, debug, app_import_path, eager_loading)\u001b[0m\n\u001b[0;32m    627\u001b[0m             \u001b[0mmessage\u001b[0m \u001b[1;33m+=\u001b[0m \u001b[1;34m' (lazy loading)'\u001b[0m\u001b[1;33m\u001b[0m\u001b[0m\n\u001b[0;32m    628\u001b[0m \u001b[1;33m\u001b[0m\u001b[0m\n\u001b[1;32m--> 629\u001b[1;33m         \u001b[0mclick\u001b[0m\u001b[1;33m.\u001b[0m\u001b[0mecho\u001b[0m\u001b[1;33m(\u001b[0m\u001b[0mmessage\u001b[0m\u001b[1;33m)\u001b[0m\u001b[1;33m\u001b[0m\u001b[0m\n\u001b[0m\u001b[0;32m    630\u001b[0m \u001b[1;33m\u001b[0m\u001b[0m\n\u001b[0;32m    631\u001b[0m     \u001b[0mclick\u001b[0m\u001b[1;33m.\u001b[0m\u001b[0mecho\u001b[0m\u001b[1;33m(\u001b[0m\u001b[1;34m' * Environment: {0}'\u001b[0m\u001b[1;33m.\u001b[0m\u001b[0mformat\u001b[0m\u001b[1;33m(\u001b[0m\u001b[0menv\u001b[0m\u001b[1;33m)\u001b[0m\u001b[1;33m)\u001b[0m\u001b[1;33m\u001b[0m\u001b[0m\n",
      "\u001b[1;32m~\\Anaconda3\\lib\\site-packages\\click\\utils.py\u001b[0m in \u001b[0;36mecho\u001b[1;34m(message, file, nl, err, color)\u001b[0m\n\u001b[0;32m    257\u001b[0m \u001b[1;33m\u001b[0m\u001b[0m\n\u001b[0;32m    258\u001b[0m     \u001b[1;32mif\u001b[0m \u001b[0mmessage\u001b[0m\u001b[1;33m:\u001b[0m\u001b[1;33m\u001b[0m\u001b[0m\n\u001b[1;32m--> 259\u001b[1;33m         \u001b[0mfile\u001b[0m\u001b[1;33m.\u001b[0m\u001b[0mwrite\u001b[0m\u001b[1;33m(\u001b[0m\u001b[0mmessage\u001b[0m\u001b[1;33m)\u001b[0m\u001b[1;33m\u001b[0m\u001b[0m\n\u001b[0m\u001b[0;32m    260\u001b[0m     \u001b[0mfile\u001b[0m\u001b[1;33m.\u001b[0m\u001b[0mflush\u001b[0m\u001b[1;33m(\u001b[0m\u001b[1;33m)\u001b[0m\u001b[1;33m\u001b[0m\u001b[0m\n\u001b[0;32m    261\u001b[0m \u001b[1;33m\u001b[0m\u001b[0m\n",
      "\u001b[1;31mUnsupportedOperation\u001b[0m: not writable"
     ]
    }
   ],
   "source": [
    "if __name__ == \"__main__\":\n",
    "    app.run()"
   ]
  },
  {
   "cell_type": "code",
   "execution_count": null,
   "metadata": {},
   "outputs": [],
   "source": []
  }
 ],
 "metadata": {
  "kernelspec": {
   "display_name": "Python [conda env:pythonData]",
   "language": "python",
   "name": "conda-env-pythonData-py"
  },
  "language_info": {
   "codemirror_mode": {
    "name": "ipython",
    "version": 3
   },
   "file_extension": ".py",
   "mimetype": "text/x-python",
   "name": "python",
   "nbconvert_exporter": "python",
   "pygments_lexer": "ipython3",
   "version": "3.6.5"
  }
 },
 "nbformat": 4,
 "nbformat_minor": 2
}
